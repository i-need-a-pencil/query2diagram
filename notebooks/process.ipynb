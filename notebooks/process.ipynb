{
 "cells": [
  {
   "cell_type": "code",
   "execution_count": null,
   "metadata": {},
   "outputs": [],
   "source": [
    "import json\n",
    "\n",
    "import pandas as pd"
   ]
  },
  {
   "cell_type": "code",
   "execution_count": null,
   "metadata": {},
   "outputs": [],
   "source": [
    "class Config:\n",
    "    git_metadata = \"./datasets/repo_metadata.json\"\n",
    "    # https://gist.github.com/ppisarczyk/43962d06686722d26d176fad46879d41\n",
    "    lang_extensions = \"./datasets/lang_extensions.json\"\n",
    "    min_reqs = {\n",
    "        \"stars\": 25,\n",
    "        \"watchers\": 25,\n",
    "        \"forks\": 25,\n",
    "        \"target_languages\": {\n",
    "            \"Python\",\n",
    "            \"Java\",\n",
    "            \"Go\",\n",
    "            \"JavaScript\",\n",
    "            \"C++\",\n",
    "            \"TypeScript\",\n",
    "            \"PHP\",\n",
    "            \"C\",\n",
    "            \"C#\",\n",
    "            \"Rust\",\n",
    "            \"Scala\",\n",
    "            \"Kotlin\",\n",
    "        },\n",
    "        \"size_thr\": 0.5,\n",
    "        \"languages_size_sum\": 100000,\n",
    "        \"language_size\": 10000,\n",
    "    }\n",
    "    licenses = [\"MIT License\", \"MIT No Attribution\", \"Apache License 2.0\"]\n",
    "    out_file = \"./datasets/top_150.csv\""
   ]
  },
  {
   "cell_type": "code",
   "execution_count": null,
   "metadata": {},
   "outputs": [],
   "source": [
    "with open(Config.lang_extensions, \"r\") as f:\n",
    "    lang_extensions = json.load(f)\n",
    "    lang_extensions = {\n",
    "        d[\"name\"]: d[\"extensions\"]\n",
    "        for d in lang_extensions\n",
    "        if d[\"name\"] in Config.min_reqs[\"target_languages\"] and \"extensions\" in d\n",
    "    }\n",
    "print(f\"{len(lang_extensions)} from {len(Config.min_reqs['target_languages'])}\")"
   ]
  },
  {
   "cell_type": "code",
   "execution_count": null,
   "metadata": {},
   "outputs": [],
   "source": [
    "git_data = pd.read_json(Config.git_metadata)\n",
    "git_data.head(5)"
   ]
  },
  {
   "cell_type": "code",
   "execution_count": null,
   "metadata": {},
   "outputs": [],
   "source": [
    "git_data = git_data[\n",
    "    [\"owner\", \"name\", \"stars\", \"forks\", \"watchers\", \"isFork\", \"languages\", \"primaryLanguage\", \"license\"]\n",
    "]\n",
    "\n",
    "\n",
    "def filter_langs(x):\n",
    "    size_sum = sum(l[\"size\"] for l in x)\n",
    "    if len(x) == 0 or size_sum == 0:\n",
    "        return []\n",
    "\n",
    "    langs = [lang for lang in sorted(x, key=lambda l: -l[\"size\"])]\n",
    "\n",
    "    cur = 0.0\n",
    "    out = []\n",
    "    for l in langs:\n",
    "        cur += l[\"size\"] / size_sum\n",
    "        out.append(l)\n",
    "        if cur > Config.min_reqs[\"size_thr\"]:\n",
    "            break\n",
    "\n",
    "    out = [l for l in out if l[\"name\"] in Config.min_reqs[\"target_languages\"]]\n",
    "    return out\n",
    "\n",
    "\n",
    "git_data[\"languages\"] = git_data[\"languages\"].apply(lambda x: filter_langs(x))\n",
    "git_data[\"languages_size_sum\"] = git_data[\"languages\"].apply(lambda x: sum(l[\"size\"] for l in x))\n",
    "git_data.head(5)"
   ]
  },
  {
   "cell_type": "code",
   "execution_count": null,
   "metadata": {},
   "outputs": [],
   "source": [
    "processed_data = git_data[\n",
    "    (git_data[\"stars\"] >= Config.min_reqs[\"stars\"])\n",
    "    & (git_data[\"watchers\"] >= Config.min_reqs[\"watchers\"])\n",
    "    & (git_data[\"forks\"] >= Config.min_reqs[\"forks\"])\n",
    "    & (git_data[\"primaryLanguage\"].isin(Config.min_reqs[\"target_languages\"]))\n",
    "    & (git_data[\"languages\"].apply(lambda x: len(x)) > 0)\n",
    "    & (git_data[\"languages_size_sum\"] >= Config.min_reqs[\"languages_size_sum\"])\n",
    "    & (~git_data[\"isFork\"])  # useless because it contains no forks\n",
    "    & (git_data[\"license\"].isin(Config.licenses))\n",
    "]\n",
    "processed_data = processed_data.sort_values(by=[\"stars\", \"forks\", \"watchers\"], ascending=False)\n",
    "processed_data = processed_data.drop_duplicates([\"name\"])\n",
    "processed_data[\"all_languages\"] = processed_data[\"languages\"].apply(lambda x: [l[\"name\"] for l in x])\n",
    "processed_data = processed_data.explode(\"languages\").reset_index(drop=True)\n",
    "processed_data[\"language_size\"] = processed_data[\"languages\"].apply(lambda x: x[\"size\"])\n",
    "processed_data[\"language\"] = processed_data[\"languages\"].apply(lambda x: x[\"name\"])\n",
    "\n",
    "processed_data = processed_data[processed_data[\"language_size\"] >= Config.min_reqs[\"language_size\"]]\n",
    "processed_data"
   ]
  },
  {
   "cell_type": "code",
   "execution_count": null,
   "metadata": {},
   "outputs": [],
   "source": [
    "top_150 = processed_data.groupby(\"language\").head(150)\n",
    "top_150 = top_150.drop(columns=[\"language\", \"language_size\"]).drop_duplicates([\"name\"]).reset_index(drop=True)\n",
    "top_150[\"repo\"] = top_150.apply(lambda x: f\"https://github.com/{x['owner']}/{x['name']}\", axis=1)\n",
    "top_150"
   ]
  },
  {
   "cell_type": "code",
   "execution_count": null,
   "metadata": {},
   "outputs": [],
   "source": [
    "top_25 = processed_data.groupby(\"language\").head(25)\n",
    "top_25 = top_25.drop(columns=[\"language\", \"language_size\"]).drop_duplicates([\"name\"]).reset_index(drop=True)\n",
    "top_25[\"repo\"] = top_25.apply(lambda x: f\"https://github.com/{x['owner']}/{x['name']}\", axis=1)\n",
    "top_25"
   ]
  },
  {
   "cell_type": "code",
   "execution_count": null,
   "metadata": {},
   "outputs": [],
   "source": [
    "top_150.to_csv(Config.out_file)"
   ]
  },
  {
   "cell_type": "code",
   "execution_count": null,
   "metadata": {},
   "outputs": [],
   "source": [
    "[a for a in top_150.to_dict(orient=\"records\")][0]"
   ]
  }
 ],
 "metadata": {
  "kernelspec": {
   "display_name": "base",
   "language": "python",
   "name": "python3"
  },
  "language_info": {
   "codemirror_mode": {
    "name": "ipython",
    "version": 3
   },
   "file_extension": ".py",
   "mimetype": "text/x-python",
   "name": "python",
   "nbconvert_exporter": "python",
   "pygments_lexer": "ipython3",
   "version": "3.11.10"
  }
 },
 "nbformat": 4,
 "nbformat_minor": 2
}
