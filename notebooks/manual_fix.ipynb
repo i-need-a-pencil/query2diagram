{
 "cells": [
  {
   "cell_type": "markdown",
   "id": "69585de0-b573-4b69-bdf2-6f8df459a8a3",
   "metadata": {},
   "source": [
    "## Imports\n"
   ]
  },
  {
   "cell_type": "code",
   "execution_count": null,
   "id": "98d6a6ad-45d3-4e8b-8186-3b9a4ae1dfbb",
   "metadata": {
    "ExecuteTime": {
     "end_time": "2024-07-15T13:10:39.919734900Z",
     "start_time": "2024-07-15T13:10:39.751944200Z"
    }
   },
   "outputs": [],
   "source": [
    "import json\n",
    "import os\n",
    "import textwrap\n",
    "from time import gmtime, strftime\n",
    "from typing import Dict, List\n",
    "\n",
    "import plantuml\n",
    "from IPython.display import Image, display\n",
    "from ipywidgets import fixed, interact, widgets\n",
    "from q2d.checker import convert_str_graph_with_check\n",
    "from q2d.graph_to_plantuml import GraphConvertConfig"
   ]
  },
  {
   "cell_type": "markdown",
   "id": "9d25c526-195d-420a-ad06-2ae818c08192",
   "metadata": {},
   "source": [
    "## Data\n"
   ]
  },
  {
   "cell_type": "code",
   "execution_count": null,
   "id": "05f9eae8",
   "metadata": {},
   "outputs": [],
   "source": [
    "class Config:\n",
    "    input_dataset = \"./datasets/claude_sonnet_synth.json\"\n",
    "    previous_data = \"./datasets/claude_sonnet_synth_fixed.json\"\n",
    "    path_to_save = \"./datasets\""
   ]
  },
  {
   "cell_type": "code",
   "execution_count": null,
   "id": "24e592f3",
   "metadata": {},
   "outputs": [],
   "source": [
    "if Config.previous_data is not None and os.path.isfile(Config.previous_data):\n",
    "    with open(Config.previous_data, \"r\") as f:\n",
    "        points = json.load(f)\n",
    "else:\n",
    "    with open(Config.input_dataset, \"r\") as f:\n",
    "        points = json.load(f)\n",
    "print(len(points))"
   ]
  },
  {
   "cell_type": "markdown",
   "id": "cb012889-884d-4683-ba9d-246d25a0a84d",
   "metadata": {},
   "source": [
    "## Manual fix\n"
   ]
  },
  {
   "cell_type": "code",
   "execution_count": null,
   "id": "27acbdf8",
   "metadata": {},
   "outputs": [],
   "source": [
    "def pretty_print_text(text: str, label: str, expandable: bool = False) -> None:\n",
    "    lines = text.split(\"\\n\")\n",
    "    wrapped_text = \"\\n\".join(\n",
    "        [line_part for line in lines for line_part in textwrap.wrap(str(line), 180, break_long_words=False)]\n",
    "    )\n",
    "    if expandable:\n",
    "        display(\n",
    "            widgets.Accordion(\n",
    "                children=[\n",
    "                    widgets.HTML(\n",
    "                        value=f'<div style=\"font-family:Consolas;white-space:pre;line-height:18px\">{wrapped_text.replace(\"&\", \"&amp;\").replace(\"<\", \"&lt;\")}</div>',\n",
    "                        layout=widgets.Layout(width=\"auto\", height=\"100%\", max_height=\"100%\"),\n",
    "                        rows=10,\n",
    "                    )\n",
    "                ],\n",
    "                titles=(label,),\n",
    "            )\n",
    "        )\n",
    "    else:\n",
    "        display(\n",
    "            widgets.HTML(\n",
    "                value=f'<div style=\"white-space:pre\">{wrapped_text}</div>',\n",
    "                description=f\"{label}: \",\n",
    "                layout=widgets.Layout(width=\"auto\", height=\"100%\"),\n",
    "            )\n",
    "        )\n",
    "\n",
    "\n",
    "def display_plantuml(uml_code: str) -> None:\n",
    "    pl = plantuml.PlantUML()\n",
    "    image_data = pl.processes(uml_code)\n",
    "    display(Image(image_data))"
   ]
  },
  {
   "cell_type": "code",
   "execution_count": null,
   "id": "4ca4ab88-9666-4edb-a07e-3d810b0b6fb6",
   "metadata": {
    "ExecuteTime": {
     "end_time": "2024-07-15T13:10:42.419128500Z",
     "start_time": "2024-07-15T13:10:42.191118300Z"
    }
   },
   "outputs": [],
   "source": [
    "q_to_labels = {\n",
    "    \"JSON Graph\": \"diagram\",\n",
    "    \"QUERY\": \"query\",\n",
    "    \"TEXT\": \"text_answer\",\n",
    "}\n",
    "\n",
    "all_widgets = {}\n",
    "for q in q_to_labels:\n",
    "    widget_axis = tuple(\n",
    "        [\n",
    "            widgets.Textarea(\n",
    "                description=q,\n",
    "                value=points[i][q_to_labels[q]],\n",
    "                layout=widgets.Layout(width=\"auto\", height=\"100%\", max_height=\"100%\"),\n",
    "                rows=4,\n",
    "            )\n",
    "            for i in range(len(points))\n",
    "        ]\n",
    "    )\n",
    "    all_widgets[q] = widget_axis\n",
    "\n",
    "\n",
    "def screen_cur_labels(save_with_name, all_widgets: Dict, points: List) -> None:\n",
    "    for i in range(len(points)):\n",
    "        for q, widget_axis in all_widgets.items():\n",
    "            points[i][q_to_labels[q]] = widget_axis[i].value\n",
    "    if save_with_name:\n",
    "        filename = filename_.value\n",
    "    else:\n",
    "        filename = \"chkpt_\" + strftime(\"%Y-%m-%d\", gmtime())\n",
    "    save_dir = Config.path_to_save\n",
    "\n",
    "    full_path = os.path.join(save_dir, f\"{filename}.json\")\n",
    "    os.makedirs(save_dir, exist_ok=True)\n",
    "    with open(full_path, \"w\") as file:\n",
    "        json.dump(points, file, indent=2)\n",
    "\n",
    "\n",
    "save_state = False\n",
    "next_state = False\n",
    "slider = widgets.IntSlider(min=0, max=len(points) - 1, step=1, value=0)\n",
    "\n",
    "\n",
    "def get_studio(save_click: bool, point_n: int, next_click: bool, all_widgets: Dict, points: List) -> None:\n",
    "    global save_state, next_state, slider\n",
    "    if next_state != next_click:\n",
    "        next_state = next_click\n",
    "        slider.value += 1\n",
    "    else:\n",
    "        save_with_name = save_state != save_click\n",
    "        save_state = save_click\n",
    "        screen_cur_labels(save_with_name, all_widgets, points)\n",
    "        for q, widget_axis in all_widgets.items():\n",
    "            display(widget_axis[point_n])\n",
    "        pretty_print_text(points[point_n][\"path\"], \"PATH\")\n",
    "        pretty_print_text(points[point_n][\"language\"], \"LANGUAGE\")\n",
    "        pretty_print_text(points[point_n][\"version\"], \"VERSION\")\n",
    "        pretty_print_text(points[point_n][\"code\"], \"CODE\", expandable=True)\n",
    "        diagram = points[point_n][\"diagram\"]\n",
    "        converted_diagram, errors, _ = convert_str_graph_with_check(\n",
    "            diagram, points[point_n][\"code\"], GraphConvertConfig()\n",
    "        )\n",
    "        if len(errors) > 0:\n",
    "            pretty_print_text(\"\\n\".join([e.description for e in errors]), \"ERRORS\", expandable=True)\n",
    "        if converted_diagram is not None:\n",
    "            pretty_print_text(converted_diagram, \"DIAGRAM\", expandable=True)\n",
    "            display_plantuml(converted_diagram)"
   ]
  },
  {
   "cell_type": "code",
   "execution_count": null,
   "id": "7e1d83ad-2f58-4f4f-a0b3-3dde955182d6",
   "metadata": {
    "ExecuteTime": {
     "end_time": "2024-07-15T13:10:42.947306900Z",
     "start_time": "2024-07-15T13:10:42.944303900Z"
    }
   },
   "outputs": [],
   "source": [
    "default_filename = \"fixed_synth\"\n",
    "filename_ = widgets.Text(\n",
    "    placeholder=\"filename to save\",\n",
    "    description=\"Filename:\",\n",
    "    value=default_filename,\n",
    ")"
   ]
  },
  {
   "cell_type": "code",
   "execution_count": null,
   "id": "8d7e1181-f509-41c0-a508-bdb9f15cadda",
   "metadata": {
    "ExecuteTime": {
     "end_time": "2024-07-15T13:10:44.282271800Z",
     "start_time": "2024-07-15T13:10:44.218888500Z"
    }
   },
   "outputs": [],
   "source": [
    "display(filename_)\n",
    "print(\"\\n\")\n",
    "\n",
    "interact(\n",
    "    get_studio,\n",
    "    save_click=widgets.ToggleButton(description=\"Click to Save\", button_style=\"info\", value=False),\n",
    "    point_n=slider,\n",
    "    next_click=widgets.ToggleButton(description=\"Next point\", button_style=\"warning\", value=False),\n",
    "    all_widgets=fixed(all_widgets),\n",
    "    points=fixed(points),\n",
    ")\n",
    "\n",
    "print()"
   ]
  },
  {
   "cell_type": "markdown",
   "id": "0054f66b",
   "metadata": {},
   "source": [
    "## Final Conversion\n"
   ]
  },
  {
   "cell_type": "code",
   "execution_count": null,
   "id": "981c1c69",
   "metadata": {},
   "outputs": [],
   "source": [
    "bad_points = {27, 36, 69, 70, 75, 76, 77, 133, 153, 154, 155, 267}\n",
    "possible_versions_map = {\n",
    "    28: [27, 28],\n",
    "    37: [36, 37],\n",
    "    71: [69, 70, 71],\n",
    "    134: [133, 134],\n",
    "    268: [267, 268],\n",
    "}\n",
    "final_points = []\n",
    "for i, p in enumerate(points):\n",
    "    if i in bad_points:\n",
    "        continue\n",
    "    diagram = p[\"diagram\"]\n",
    "    possible_version = [\n",
    "        points[additional_point_i][\"version\"] for additional_point_i in possible_versions_map.get(i, [i])\n",
    "    ]\n",
    "    _, _, converted_graph = convert_str_graph_with_check(diagram, p[\"code\"], GraphConvertConfig())\n",
    "    final_points.append(p | {\"diagram\": str(converted_graph), \"possible_version\": possible_version})\n",
    "\n",
    "with open(os.path.join(Config.path_to_save, f\"{filename_.value}_final.json\"), \"w\") as f:\n",
    "    json.dump(final_points, f, indent=2)"
   ]
  }
 ],
 "metadata": {
  "kernelspec": {
   "display_name": "Python 3",
   "language": "python",
   "name": "python3"
  },
  "language_info": {
   "codemirror_mode": {
    "name": "ipython",
    "version": 3
   },
   "file_extension": ".py",
   "mimetype": "text/x-python",
   "name": "python",
   "nbconvert_exporter": "python",
   "pygments_lexer": "ipython3",
   "version": "3.11.10"
  }
 },
 "nbformat": 4,
 "nbformat_minor": 5
}
